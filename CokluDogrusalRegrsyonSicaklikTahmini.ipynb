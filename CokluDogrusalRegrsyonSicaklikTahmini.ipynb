{
  "nbformat": 4,
  "nbformat_minor": 0,
  "metadata": {
    "colab": {
      "name": "CokluDogrusalRegrsyonSicaklikTahmini.ipynb",
      "provenance": [],
      "collapsed_sections": [],
      "authorship_tag": "ABX9TyNQAR1YD1HhSv3iI3evzKcr"
    },
    "kernelspec": {
      "name": "python3",
      "display_name": "Python 3"
    },
    "language_info": {
      "name": "python"
    }
  },
  "cells": [
    {
      "cell_type": "code",
      "metadata": {
        "id": "ypv0l2d6pq5h"
      },
      "source": [
        "import numpy as np\n",
        "import pandas as pd"
      ],
      "execution_count": 1,
      "outputs": []
    },
    {
      "cell_type": "code",
      "metadata": {
        "colab": {
          "base_uri": "https://localhost:8080/",
          "height": 310
        },
        "id": "RKPi-Jqk3XQx",
        "outputId": "82e087e1-4286-43d3-a114-1e1489a9c624"
      },
      "source": [
        "df = pd.read_csv(\"weatherHistory.csv\")\n",
        "df.head()\n"
      ],
      "execution_count": 29,
      "outputs": [
        {
          "output_type": "execute_result",
          "data": {
            "text/html": [
              "<div>\n",
              "<style scoped>\n",
              "    .dataframe tbody tr th:only-of-type {\n",
              "        vertical-align: middle;\n",
              "    }\n",
              "\n",
              "    .dataframe tbody tr th {\n",
              "        vertical-align: top;\n",
              "    }\n",
              "\n",
              "    .dataframe thead th {\n",
              "        text-align: right;\n",
              "    }\n",
              "</style>\n",
              "<table border=\"1\" class=\"dataframe\">\n",
              "  <thead>\n",
              "    <tr style=\"text-align: right;\">\n",
              "      <th></th>\n",
              "      <th>Formatted Date</th>\n",
              "      <th>Summary</th>\n",
              "      <th>Precip Type</th>\n",
              "      <th>Temperature (C)</th>\n",
              "      <th>Apparent Temperature (C)</th>\n",
              "      <th>Humidity</th>\n",
              "      <th>Wind Speed (km/h)</th>\n",
              "      <th>Wind Bearing (degrees)</th>\n",
              "      <th>Visibility (km)</th>\n",
              "      <th>Loud Cover</th>\n",
              "      <th>Pressure (millibars)</th>\n",
              "      <th>Daily Summary</th>\n",
              "    </tr>\n",
              "  </thead>\n",
              "  <tbody>\n",
              "    <tr>\n",
              "      <th>0</th>\n",
              "      <td>2006-04-01 00:00:00.000 +0200</td>\n",
              "      <td>Partly Cloudy</td>\n",
              "      <td>rain</td>\n",
              "      <td>9.472222</td>\n",
              "      <td>7.388889</td>\n",
              "      <td>0.89</td>\n",
              "      <td>14.1197</td>\n",
              "      <td>251.0</td>\n",
              "      <td>15.8263</td>\n",
              "      <td>0.0</td>\n",
              "      <td>1015.13</td>\n",
              "      <td>Partly cloudy throughout the day.</td>\n",
              "    </tr>\n",
              "    <tr>\n",
              "      <th>1</th>\n",
              "      <td>2006-04-01 01:00:00.000 +0200</td>\n",
              "      <td>Partly Cloudy</td>\n",
              "      <td>rain</td>\n",
              "      <td>9.355556</td>\n",
              "      <td>7.227778</td>\n",
              "      <td>0.86</td>\n",
              "      <td>14.2646</td>\n",
              "      <td>259.0</td>\n",
              "      <td>15.8263</td>\n",
              "      <td>0.0</td>\n",
              "      <td>1015.63</td>\n",
              "      <td>Partly cloudy throughout the day.</td>\n",
              "    </tr>\n",
              "    <tr>\n",
              "      <th>2</th>\n",
              "      <td>2006-04-01 02:00:00.000 +0200</td>\n",
              "      <td>Mostly Cloudy</td>\n",
              "      <td>rain</td>\n",
              "      <td>9.377778</td>\n",
              "      <td>9.377778</td>\n",
              "      <td>0.89</td>\n",
              "      <td>3.9284</td>\n",
              "      <td>204.0</td>\n",
              "      <td>14.9569</td>\n",
              "      <td>0.0</td>\n",
              "      <td>1015.94</td>\n",
              "      <td>Partly cloudy throughout the day.</td>\n",
              "    </tr>\n",
              "    <tr>\n",
              "      <th>3</th>\n",
              "      <td>2006-04-01 03:00:00.000 +0200</td>\n",
              "      <td>Partly Cloudy</td>\n",
              "      <td>rain</td>\n",
              "      <td>8.288889</td>\n",
              "      <td>5.944444</td>\n",
              "      <td>0.83</td>\n",
              "      <td>14.1036</td>\n",
              "      <td>269.0</td>\n",
              "      <td>15.8263</td>\n",
              "      <td>0.0</td>\n",
              "      <td>1016.41</td>\n",
              "      <td>Partly cloudy throughout the day.</td>\n",
              "    </tr>\n",
              "    <tr>\n",
              "      <th>4</th>\n",
              "      <td>2006-04-01 04:00:00.000 +0200</td>\n",
              "      <td>Mostly Cloudy</td>\n",
              "      <td>rain</td>\n",
              "      <td>8.755556</td>\n",
              "      <td>6.977778</td>\n",
              "      <td>0.83</td>\n",
              "      <td>11.0446</td>\n",
              "      <td>259.0</td>\n",
              "      <td>15.8263</td>\n",
              "      <td>0.0</td>\n",
              "      <td>1016.51</td>\n",
              "      <td>Partly cloudy throughout the day.</td>\n",
              "    </tr>\n",
              "  </tbody>\n",
              "</table>\n",
              "</div>"
            ],
            "text/plain": [
              "                  Formatted Date  ...                      Daily Summary\n",
              "0  2006-04-01 00:00:00.000 +0200  ...  Partly cloudy throughout the day.\n",
              "1  2006-04-01 01:00:00.000 +0200  ...  Partly cloudy throughout the day.\n",
              "2  2006-04-01 02:00:00.000 +0200  ...  Partly cloudy throughout the day.\n",
              "3  2006-04-01 03:00:00.000 +0200  ...  Partly cloudy throughout the day.\n",
              "4  2006-04-01 04:00:00.000 +0200  ...  Partly cloudy throughout the day.\n",
              "\n",
              "[5 rows x 12 columns]"
            ]
          },
          "metadata": {
            "tags": []
          },
          "execution_count": 29
        }
      ]
    },
    {
      "cell_type": "code",
      "metadata": {
        "id": "fPPZZxlu32J-"
      },
      "source": [
        "from sklearn.model_selection import train_test_split, cross_val_score, cross_val_predict"
      ],
      "execution_count": 27,
      "outputs": []
    },
    {
      "cell_type": "code",
      "metadata": {
        "colab": {
          "base_uri": "https://localhost:8080/",
          "height": 424
        },
        "id": "z7NpsNzJ353M",
        "outputId": "c135b307-9ec7-4a8e-f2b5-08fb0e452248"
      },
      "source": [
        "df2 = df.select_dtypes(include = ['float64', 'int64']) \n",
        "df2"
      ],
      "execution_count": 46,
      "outputs": [
        {
          "output_type": "execute_result",
          "data": {
            "text/html": [
              "<div>\n",
              "<style scoped>\n",
              "    .dataframe tbody tr th:only-of-type {\n",
              "        vertical-align: middle;\n",
              "    }\n",
              "\n",
              "    .dataframe tbody tr th {\n",
              "        vertical-align: top;\n",
              "    }\n",
              "\n",
              "    .dataframe thead th {\n",
              "        text-align: right;\n",
              "    }\n",
              "</style>\n",
              "<table border=\"1\" class=\"dataframe\">\n",
              "  <thead>\n",
              "    <tr style=\"text-align: right;\">\n",
              "      <th></th>\n",
              "      <th>Temperature (C)</th>\n",
              "      <th>Apparent Temperature (C)</th>\n",
              "      <th>Humidity</th>\n",
              "      <th>Wind Speed (km/h)</th>\n",
              "      <th>Wind Bearing (degrees)</th>\n",
              "      <th>Visibility (km)</th>\n",
              "      <th>Loud Cover</th>\n",
              "      <th>Pressure (millibars)</th>\n",
              "    </tr>\n",
              "  </thead>\n",
              "  <tbody>\n",
              "    <tr>\n",
              "      <th>0</th>\n",
              "      <td>9.472222</td>\n",
              "      <td>7.388889</td>\n",
              "      <td>0.89</td>\n",
              "      <td>14.1197</td>\n",
              "      <td>251.0</td>\n",
              "      <td>15.8263</td>\n",
              "      <td>0.0</td>\n",
              "      <td>1015.13</td>\n",
              "    </tr>\n",
              "    <tr>\n",
              "      <th>1</th>\n",
              "      <td>9.355556</td>\n",
              "      <td>7.227778</td>\n",
              "      <td>0.86</td>\n",
              "      <td>14.2646</td>\n",
              "      <td>259.0</td>\n",
              "      <td>15.8263</td>\n",
              "      <td>0.0</td>\n",
              "      <td>1015.63</td>\n",
              "    </tr>\n",
              "    <tr>\n",
              "      <th>2</th>\n",
              "      <td>9.377778</td>\n",
              "      <td>9.377778</td>\n",
              "      <td>0.89</td>\n",
              "      <td>3.9284</td>\n",
              "      <td>204.0</td>\n",
              "      <td>14.9569</td>\n",
              "      <td>0.0</td>\n",
              "      <td>1015.94</td>\n",
              "    </tr>\n",
              "    <tr>\n",
              "      <th>3</th>\n",
              "      <td>8.288889</td>\n",
              "      <td>5.944444</td>\n",
              "      <td>0.83</td>\n",
              "      <td>14.1036</td>\n",
              "      <td>269.0</td>\n",
              "      <td>15.8263</td>\n",
              "      <td>0.0</td>\n",
              "      <td>1016.41</td>\n",
              "    </tr>\n",
              "    <tr>\n",
              "      <th>4</th>\n",
              "      <td>8.755556</td>\n",
              "      <td>6.977778</td>\n",
              "      <td>0.83</td>\n",
              "      <td>11.0446</td>\n",
              "      <td>259.0</td>\n",
              "      <td>15.8263</td>\n",
              "      <td>0.0</td>\n",
              "      <td>1016.51</td>\n",
              "    </tr>\n",
              "    <tr>\n",
              "      <th>...</th>\n",
              "      <td>...</td>\n",
              "      <td>...</td>\n",
              "      <td>...</td>\n",
              "      <td>...</td>\n",
              "      <td>...</td>\n",
              "      <td>...</td>\n",
              "      <td>...</td>\n",
              "      <td>...</td>\n",
              "    </tr>\n",
              "    <tr>\n",
              "      <th>96448</th>\n",
              "      <td>26.016667</td>\n",
              "      <td>26.016667</td>\n",
              "      <td>0.43</td>\n",
              "      <td>10.9963</td>\n",
              "      <td>31.0</td>\n",
              "      <td>16.1000</td>\n",
              "      <td>0.0</td>\n",
              "      <td>1014.36</td>\n",
              "    </tr>\n",
              "    <tr>\n",
              "      <th>96449</th>\n",
              "      <td>24.583333</td>\n",
              "      <td>24.583333</td>\n",
              "      <td>0.48</td>\n",
              "      <td>10.0947</td>\n",
              "      <td>20.0</td>\n",
              "      <td>15.5526</td>\n",
              "      <td>0.0</td>\n",
              "      <td>1015.16</td>\n",
              "    </tr>\n",
              "    <tr>\n",
              "      <th>96450</th>\n",
              "      <td>22.038889</td>\n",
              "      <td>22.038889</td>\n",
              "      <td>0.56</td>\n",
              "      <td>8.9838</td>\n",
              "      <td>30.0</td>\n",
              "      <td>16.1000</td>\n",
              "      <td>0.0</td>\n",
              "      <td>1015.66</td>\n",
              "    </tr>\n",
              "    <tr>\n",
              "      <th>96451</th>\n",
              "      <td>21.522222</td>\n",
              "      <td>21.522222</td>\n",
              "      <td>0.60</td>\n",
              "      <td>10.5294</td>\n",
              "      <td>20.0</td>\n",
              "      <td>16.1000</td>\n",
              "      <td>0.0</td>\n",
              "      <td>1015.95</td>\n",
              "    </tr>\n",
              "    <tr>\n",
              "      <th>96452</th>\n",
              "      <td>20.438889</td>\n",
              "      <td>20.438889</td>\n",
              "      <td>0.61</td>\n",
              "      <td>5.8765</td>\n",
              "      <td>39.0</td>\n",
              "      <td>15.5204</td>\n",
              "      <td>0.0</td>\n",
              "      <td>1016.16</td>\n",
              "    </tr>\n",
              "  </tbody>\n",
              "</table>\n",
              "<p>96453 rows × 8 columns</p>\n",
              "</div>"
            ],
            "text/plain": [
              "       Temperature (C)  ...  Pressure (millibars)\n",
              "0             9.472222  ...               1015.13\n",
              "1             9.355556  ...               1015.63\n",
              "2             9.377778  ...               1015.94\n",
              "3             8.288889  ...               1016.41\n",
              "4             8.755556  ...               1016.51\n",
              "...                ...  ...                   ...\n",
              "96448        26.016667  ...               1014.36\n",
              "96449        24.583333  ...               1015.16\n",
              "96450        22.038889  ...               1015.66\n",
              "96451        21.522222  ...               1015.95\n",
              "96452        20.438889  ...               1016.16\n",
              "\n",
              "[96453 rows x 8 columns]"
            ]
          },
          "metadata": {
            "tags": []
          },
          "execution_count": 46
        }
      ]
    },
    {
      "cell_type": "code",
      "metadata": {
        "id": "Y3cCbt2G351A"
      },
      "source": [
        "X = df2.drop(\"Temperature (C)\", axis = 1)\n",
        "y = df2[\"Temperature (C)\"]\n",
        "\n",
        "X_train, X_test, y_train, y_test = train_test_split(X, y, test_size = 0.20, random_state= 42)\n"
      ],
      "execution_count": 47,
      "outputs": []
    },
    {
      "cell_type": "code",
      "metadata": {
        "colab": {
          "base_uri": "https://localhost:8080/"
        },
        "id": "Xl-7HOwM35zO",
        "outputId": "8d290174-1e2d-4588-b20b-c7e04502cc38"
      },
      "source": [
        "X_train.shape"
      ],
      "execution_count": 48,
      "outputs": [
        {
          "output_type": "execute_result",
          "data": {
            "text/plain": [
              "(77162, 7)"
            ]
          },
          "metadata": {
            "tags": []
          },
          "execution_count": 48
        }
      ]
    },
    {
      "cell_type": "code",
      "metadata": {
        "colab": {
          "base_uri": "https://localhost:8080/"
        },
        "id": "OssTThwz35wN",
        "outputId": "755c4276-8a79-4025-8ceb-205002c595bc"
      },
      "source": [
        "y_train.shape"
      ],
      "execution_count": 49,
      "outputs": [
        {
          "output_type": "execute_result",
          "data": {
            "text/plain": [
              "(77162,)"
            ]
          },
          "metadata": {
            "tags": []
          },
          "execution_count": 49
        }
      ]
    },
    {
      "cell_type": "code",
      "metadata": {
        "colab": {
          "base_uri": "https://localhost:8080/"
        },
        "id": "cesOJQW335t-",
        "outputId": "7870ab87-a285-4ca4-f970-58cd5a6ae1d6"
      },
      "source": [
        "X_test.shape"
      ],
      "execution_count": 50,
      "outputs": [
        {
          "output_type": "execute_result",
          "data": {
            "text/plain": [
              "(19291, 7)"
            ]
          },
          "metadata": {
            "tags": []
          },
          "execution_count": 50
        }
      ]
    },
    {
      "cell_type": "code",
      "metadata": {
        "colab": {
          "base_uri": "https://localhost:8080/"
        },
        "id": "ifS05A9n35sN",
        "outputId": "c0c45871-1412-46f8-e7dc-2d622d8e6cd8"
      },
      "source": [
        "y_test.shape"
      ],
      "execution_count": 51,
      "outputs": [
        {
          "output_type": "execute_result",
          "data": {
            "text/plain": [
              "(19291,)"
            ]
          },
          "metadata": {
            "tags": []
          },
          "execution_count": 51
        }
      ]
    },
    {
      "cell_type": "code",
      "metadata": {
        "id": "97KfdDn_5gbT"
      },
      "source": [
        "training = df.copy()"
      ],
      "execution_count": 52,
      "outputs": []
    },
    {
      "cell_type": "code",
      "metadata": {
        "colab": {
          "base_uri": "https://localhost:8080/"
        },
        "id": "H5NerwXr5mZB",
        "outputId": "87d9501d-9ce1-4043-e7c0-b077ee4e8e3d"
      },
      "source": [
        "training.shape"
      ],
      "execution_count": 53,
      "outputs": [
        {
          "output_type": "execute_result",
          "data": {
            "text/plain": [
              "(96453, 12)"
            ]
          },
          "metadata": {
            "tags": []
          },
          "execution_count": 53
        }
      ]
    },
    {
      "cell_type": "code",
      "metadata": {
        "id": "jDv2hQrN6T8H"
      },
      "source": [
        "import statsmodels.api as sm"
      ],
      "execution_count": 54,
      "outputs": []
    },
    {
      "cell_type": "code",
      "metadata": {
        "id": "MKdEmFXV6jMI"
      },
      "source": [
        ""
      ],
      "execution_count": 56,
      "outputs": []
    },
    {
      "cell_type": "code",
      "metadata": {
        "id": "-iJdKPRN6XUg"
      },
      "source": [
        "lm = sm.OLS(y_train, X_train)"
      ],
      "execution_count": 57,
      "outputs": []
    },
    {
      "cell_type": "code",
      "metadata": {
        "colab": {
          "base_uri": "https://localhost:8080/",
          "height": 663
        },
        "id": "KOHAtskk6XRp",
        "outputId": "d486992f-b5f9-4467-91b2-0b1b4bdc5809"
      },
      "source": [
        "model = lm.fit()\n",
        "model.summary()"
      ],
      "execution_count": 58,
      "outputs": [
        {
          "output_type": "stream",
          "text": [
            "/usr/local/lib/python3.7/dist-packages/statsmodels/regression/linear_model.py:1755: RuntimeWarning: divide by zero encountered in double_scalars\n",
            "  return np.sqrt(eigvals[0]/eigvals[-1])\n",
            "/usr/local/lib/python3.7/dist-packages/statsmodels/base/model.py:1294: RuntimeWarning: invalid value encountered in true_divide\n",
            "  return self.params / self.bse\n"
          ],
          "name": "stderr"
        },
        {
          "output_type": "execute_result",
          "data": {
            "text/html": [
              "<table class=\"simpletable\">\n",
              "<caption>OLS Regression Results</caption>\n",
              "<tr>\n",
              "  <th>Dep. Variable:</th>     <td>Temperature (C)</td> <th>  R-squared (uncentered):</th>       <td>   0.996</td>  \n",
              "</tr>\n",
              "<tr>\n",
              "  <th>Model:</th>                   <td>OLS</td>       <th>  Adj. R-squared (uncentered):</th>  <td>   0.996</td>  \n",
              "</tr>\n",
              "<tr>\n",
              "  <th>Method:</th>             <td>Least Squares</td>  <th>  F-statistic:       </th>           <td>3.104e+06</td> \n",
              "</tr>\n",
              "<tr>\n",
              "  <th>Date:</th>             <td>Fri, 11 Jun 2021</td> <th>  Prob (F-statistic):</th>            <td>  0.00</td>   \n",
              "</tr>\n",
              "<tr>\n",
              "  <th>Time:</th>                 <td>11:53:13</td>     <th>  Log-Likelihood:    </th>          <td>-1.0808e+05</td>\n",
              "</tr>\n",
              "<tr>\n",
              "  <th>No. Observations:</th>      <td> 77162</td>      <th>  AIC:               </th>           <td>2.162e+05</td> \n",
              "</tr>\n",
              "<tr>\n",
              "  <th>Df Residuals:</th>          <td> 77156</td>      <th>  BIC:               </th>           <td>2.162e+05</td> \n",
              "</tr>\n",
              "<tr>\n",
              "  <th>Df Model:</th>              <td>     6</td>      <th>                     </th>               <td> </td>     \n",
              "</tr>\n",
              "<tr>\n",
              "  <th>Covariance Type:</th>      <td>nonrobust</td>    <th>                     </th>               <td> </td>     \n",
              "</tr>\n",
              "</table>\n",
              "<table class=\"simpletable\">\n",
              "<tr>\n",
              "              <td></td>                <th>coef</th>     <th>std err</th>      <th>t</th>      <th>P>|t|</th>  <th>[0.025</th>    <th>0.975]</th>  \n",
              "</tr>\n",
              "<tr>\n",
              "  <th>Apparent Temperature (C)</th> <td>    0.8842</td> <td>    0.000</td> <td> 2163.482</td> <td> 0.000</td> <td>    0.883</td> <td>    0.885</td>\n",
              "</tr>\n",
              "<tr>\n",
              "  <th>Humidity</th>                 <td>   -0.3979</td> <td>    0.020</td> <td>  -20.276</td> <td> 0.000</td> <td>   -0.436</td> <td>   -0.359</td>\n",
              "</tr>\n",
              "<tr>\n",
              "  <th>Wind Speed (km/h)</th>        <td>    0.0924</td> <td>    0.001</td> <td>  178.797</td> <td> 0.000</td> <td>    0.091</td> <td>    0.093</td>\n",
              "</tr>\n",
              "<tr>\n",
              "  <th>Wind Bearing (degrees)</th>   <td>   -0.0002</td> <td> 3.31e-05</td> <td>   -5.020</td> <td> 0.000</td> <td>   -0.000</td> <td>   -0.000</td>\n",
              "</tr>\n",
              "<tr>\n",
              "  <th>Visibility (km)</th>          <td>    0.0229</td> <td>    0.001</td> <td>   25.057</td> <td> 0.000</td> <td>    0.021</td> <td>    0.025</td>\n",
              "</tr>\n",
              "<tr>\n",
              "  <th>Loud Cover</th>               <td>         0</td> <td>        0</td> <td>      nan</td> <td>   nan</td> <td>        0</td> <td>        0</td>\n",
              "</tr>\n",
              "<tr>\n",
              "  <th>Pressure (millibars)</th>     <td>    0.0014</td> <td> 1.99e-05</td> <td>   70.187</td> <td> 0.000</td> <td>    0.001</td> <td>    0.001</td>\n",
              "</tr>\n",
              "</table>\n",
              "<table class=\"simpletable\">\n",
              "<tr>\n",
              "  <th>Omnibus:</th>       <td>1292.636</td> <th>  Durbin-Watson:     </th> <td>   1.987</td>\n",
              "</tr>\n",
              "<tr>\n",
              "  <th>Prob(Omnibus):</th>  <td> 0.000</td>  <th>  Jarque-Bera (JB):  </th> <td>1821.852</td>\n",
              "</tr>\n",
              "<tr>\n",
              "  <th>Skew:</th>           <td>-0.207</td>  <th>  Prob(JB):          </th> <td>    0.00</td>\n",
              "</tr>\n",
              "<tr>\n",
              "  <th>Kurtosis:</th>       <td> 3.628</td>  <th>  Cond. No.          </th> <td>     inf</td>\n",
              "</tr>\n",
              "</table><br/><br/>Warnings:<br/>[1] Standard Errors assume that the covariance matrix of the errors is correctly specified.<br/>[2] The smallest eigenvalue is      0. This might indicate that there are<br/>strong multicollinearity problems or that the design matrix is singular."
            ],
            "text/plain": [
              "<class 'statsmodels.iolib.summary.Summary'>\n",
              "\"\"\"\n",
              "                                 OLS Regression Results                                \n",
              "=======================================================================================\n",
              "Dep. Variable:        Temperature (C)   R-squared (uncentered):                   0.996\n",
              "Model:                            OLS   Adj. R-squared (uncentered):              0.996\n",
              "Method:                 Least Squares   F-statistic:                          3.104e+06\n",
              "Date:                Fri, 11 Jun 2021   Prob (F-statistic):                        0.00\n",
              "Time:                        11:53:13   Log-Likelihood:                     -1.0808e+05\n",
              "No. Observations:               77162   AIC:                                  2.162e+05\n",
              "Df Residuals:                   77156   BIC:                                  2.162e+05\n",
              "Df Model:                           6                                                  \n",
              "Covariance Type:            nonrobust                                                  \n",
              "============================================================================================\n",
              "                               coef    std err          t      P>|t|      [0.025      0.975]\n",
              "--------------------------------------------------------------------------------------------\n",
              "Apparent Temperature (C)     0.8842      0.000   2163.482      0.000       0.883       0.885\n",
              "Humidity                    -0.3979      0.020    -20.276      0.000      -0.436      -0.359\n",
              "Wind Speed (km/h)            0.0924      0.001    178.797      0.000       0.091       0.093\n",
              "Wind Bearing (degrees)      -0.0002   3.31e-05     -5.020      0.000      -0.000      -0.000\n",
              "Visibility (km)              0.0229      0.001     25.057      0.000       0.021       0.025\n",
              "Loud Cover                        0          0        nan        nan           0           0\n",
              "Pressure (millibars)         0.0014   1.99e-05     70.187      0.000       0.001       0.001\n",
              "==============================================================================\n",
              "Omnibus:                     1292.636   Durbin-Watson:                   1.987\n",
              "Prob(Omnibus):                  0.000   Jarque-Bera (JB):             1821.852\n",
              "Skew:                          -0.207   Prob(JB):                         0.00\n",
              "Kurtosis:                       3.628   Cond. No.                          inf\n",
              "==============================================================================\n",
              "\n",
              "Warnings:\n",
              "[1] Standard Errors assume that the covariance matrix of the errors is correctly specified.\n",
              "[2] The smallest eigenvalue is      0. This might indicate that there are\n",
              "strong multicollinearity problems or that the design matrix is singular.\n",
              "\"\"\""
            ]
          },
          "metadata": {
            "tags": []
          },
          "execution_count": 58
        }
      ]
    },
    {
      "cell_type": "code",
      "metadata": {
        "colab": {
          "base_uri": "https://localhost:8080/",
          "height": 190
        },
        "id": "Hzoc-YwY6XPQ",
        "outputId": "6aa48b43-57cf-4feb-a19c-7bbee5cb59ea"
      },
      "source": [
        "model.summary().tables[1]"
      ],
      "execution_count": 60,
      "outputs": [
        {
          "output_type": "execute_result",
          "data": {
            "text/html": [
              "<table class=\"simpletable\">\n",
              "<tr>\n",
              "              <td></td>                <th>coef</th>     <th>std err</th>      <th>t</th>      <th>P>|t|</th>  <th>[0.025</th>    <th>0.975]</th>  \n",
              "</tr>\n",
              "<tr>\n",
              "  <th>Apparent Temperature (C)</th> <td>    0.8842</td> <td>    0.000</td> <td> 2163.482</td> <td> 0.000</td> <td>    0.883</td> <td>    0.885</td>\n",
              "</tr>\n",
              "<tr>\n",
              "  <th>Humidity</th>                 <td>   -0.3979</td> <td>    0.020</td> <td>  -20.276</td> <td> 0.000</td> <td>   -0.436</td> <td>   -0.359</td>\n",
              "</tr>\n",
              "<tr>\n",
              "  <th>Wind Speed (km/h)</th>        <td>    0.0924</td> <td>    0.001</td> <td>  178.797</td> <td> 0.000</td> <td>    0.091</td> <td>    0.093</td>\n",
              "</tr>\n",
              "<tr>\n",
              "  <th>Wind Bearing (degrees)</th>   <td>   -0.0002</td> <td> 3.31e-05</td> <td>   -5.020</td> <td> 0.000</td> <td>   -0.000</td> <td>   -0.000</td>\n",
              "</tr>\n",
              "<tr>\n",
              "  <th>Visibility (km)</th>          <td>    0.0229</td> <td>    0.001</td> <td>   25.057</td> <td> 0.000</td> <td>    0.021</td> <td>    0.025</td>\n",
              "</tr>\n",
              "<tr>\n",
              "  <th>Loud Cover</th>               <td>         0</td> <td>        0</td> <td>      nan</td> <td>   nan</td> <td>        0</td> <td>        0</td>\n",
              "</tr>\n",
              "<tr>\n",
              "  <th>Pressure (millibars)</th>     <td>    0.0014</td> <td> 1.99e-05</td> <td>   70.187</td> <td> 0.000</td> <td>    0.001</td> <td>    0.001</td>\n",
              "</tr>\n",
              "</table>"
            ],
            "text/plain": [
              "<class 'statsmodels.iolib.table.SimpleTable'>"
            ]
          },
          "metadata": {
            "tags": []
          },
          "execution_count": 60
        }
      ]
    },
    {
      "cell_type": "markdown",
      "metadata": {
        "id": "-bOJl1GCVJwT"
      },
      "source": [
        "## scikit-learn model"
      ]
    },
    {
      "cell_type": "code",
      "metadata": {
        "id": "aHkLircQVad3"
      },
      "source": [
        "from sklearn.linear_model import LinearRegression"
      ],
      "execution_count": 62,
      "outputs": []
    },
    {
      "cell_type": "code",
      "metadata": {
        "id": "y2Di6pwcVLFR"
      },
      "source": [
        "lm = LinearRegression()\n",
        "model = lm.fit(X_train, y_train)"
      ],
      "execution_count": 63,
      "outputs": []
    },
    {
      "cell_type": "code",
      "metadata": {
        "colab": {
          "base_uri": "https://localhost:8080/"
        },
        "id": "47cEasuaVLDf",
        "outputId": "5e8fbee8-25ec-4cbf-88ba-5e75f8a99981"
      },
      "source": [
        "model.intercept_"
      ],
      "execution_count": 64,
      "outputs": [
        {
          "output_type": "execute_result",
          "data": {
            "text/plain": [
              "2.831985728894562"
            ]
          },
          "metadata": {
            "tags": []
          },
          "execution_count": 64
        }
      ]
    },
    {
      "cell_type": "code",
      "metadata": {
        "colab": {
          "base_uri": "https://localhost:8080/"
        },
        "id": "DWU9WwS86XM2",
        "outputId": "8fd84bfb-7386-441d-b5a6-f34ebad78375"
      },
      "source": [
        "model.coef_"
      ],
      "execution_count": 66,
      "outputs": [
        {
          "output_type": "execute_result",
          "data": {
            "text/plain": [
              "array([ 8.72566684e-01, -1.41898621e+00,  7.97670315e-02, -4.04011835e-04,\n",
              "        8.62917874e-03,  0.00000000e+00, -2.05656529e-04])"
            ]
          },
          "metadata": {
            "tags": []
          },
          "execution_count": 66
        }
      ]
    },
    {
      "cell_type": "code",
      "metadata": {
        "colab": {
          "base_uri": "https://localhost:8080/",
          "height": 206
        },
        "id": "Mt1Tcf-hV3TN",
        "outputId": "76312aa5-2cf2-4d0d-c29c-ace3c5d48eba"
      },
      "source": [
        "df2.head()"
      ],
      "execution_count": 67,
      "outputs": [
        {
          "output_type": "execute_result",
          "data": {
            "text/html": [
              "<div>\n",
              "<style scoped>\n",
              "    .dataframe tbody tr th:only-of-type {\n",
              "        vertical-align: middle;\n",
              "    }\n",
              "\n",
              "    .dataframe tbody tr th {\n",
              "        vertical-align: top;\n",
              "    }\n",
              "\n",
              "    .dataframe thead th {\n",
              "        text-align: right;\n",
              "    }\n",
              "</style>\n",
              "<table border=\"1\" class=\"dataframe\">\n",
              "  <thead>\n",
              "    <tr style=\"text-align: right;\">\n",
              "      <th></th>\n",
              "      <th>Temperature (C)</th>\n",
              "      <th>Apparent Temperature (C)</th>\n",
              "      <th>Humidity</th>\n",
              "      <th>Wind Speed (km/h)</th>\n",
              "      <th>Wind Bearing (degrees)</th>\n",
              "      <th>Visibility (km)</th>\n",
              "      <th>Loud Cover</th>\n",
              "      <th>Pressure (millibars)</th>\n",
              "    </tr>\n",
              "  </thead>\n",
              "  <tbody>\n",
              "    <tr>\n",
              "      <th>0</th>\n",
              "      <td>9.472222</td>\n",
              "      <td>7.388889</td>\n",
              "      <td>0.89</td>\n",
              "      <td>14.1197</td>\n",
              "      <td>251.0</td>\n",
              "      <td>15.8263</td>\n",
              "      <td>0.0</td>\n",
              "      <td>1015.13</td>\n",
              "    </tr>\n",
              "    <tr>\n",
              "      <th>1</th>\n",
              "      <td>9.355556</td>\n",
              "      <td>7.227778</td>\n",
              "      <td>0.86</td>\n",
              "      <td>14.2646</td>\n",
              "      <td>259.0</td>\n",
              "      <td>15.8263</td>\n",
              "      <td>0.0</td>\n",
              "      <td>1015.63</td>\n",
              "    </tr>\n",
              "    <tr>\n",
              "      <th>2</th>\n",
              "      <td>9.377778</td>\n",
              "      <td>9.377778</td>\n",
              "      <td>0.89</td>\n",
              "      <td>3.9284</td>\n",
              "      <td>204.0</td>\n",
              "      <td>14.9569</td>\n",
              "      <td>0.0</td>\n",
              "      <td>1015.94</td>\n",
              "    </tr>\n",
              "    <tr>\n",
              "      <th>3</th>\n",
              "      <td>8.288889</td>\n",
              "      <td>5.944444</td>\n",
              "      <td>0.83</td>\n",
              "      <td>14.1036</td>\n",
              "      <td>269.0</td>\n",
              "      <td>15.8263</td>\n",
              "      <td>0.0</td>\n",
              "      <td>1016.41</td>\n",
              "    </tr>\n",
              "    <tr>\n",
              "      <th>4</th>\n",
              "      <td>8.755556</td>\n",
              "      <td>6.977778</td>\n",
              "      <td>0.83</td>\n",
              "      <td>11.0446</td>\n",
              "      <td>259.0</td>\n",
              "      <td>15.8263</td>\n",
              "      <td>0.0</td>\n",
              "      <td>1016.51</td>\n",
              "    </tr>\n",
              "  </tbody>\n",
              "</table>\n",
              "</div>"
            ],
            "text/plain": [
              "   Temperature (C)  Apparent Temperature (C)  ...  Loud Cover  Pressure (millibars)\n",
              "0         9.472222                  7.388889  ...         0.0               1015.13\n",
              "1         9.355556                  7.227778  ...         0.0               1015.63\n",
              "2         9.377778                  9.377778  ...         0.0               1015.94\n",
              "3         8.288889                  5.944444  ...         0.0               1016.41\n",
              "4         8.755556                  6.977778  ...         0.0               1016.51\n",
              "\n",
              "[5 rows x 8 columns]"
            ]
          },
          "metadata": {
            "tags": []
          },
          "execution_count": 67
        }
      ]
    },
    {
      "cell_type": "code",
      "metadata": {
        "id": "2xctXDLOVqB9"
      },
      "source": [
        "a_t = df2[\"Apparent Temperature (C)\"].mean()\n",
        "hm = df2[\"Humidity\"].mean()\n",
        "wind_speed=df2[\"Wind Speed (km/h)\"].mean()\n",
        "Wind_Bearing = df2[\"Wind Bearing (degrees)\"].mean()\n",
        "vsblty = df2[\"Visibility (km)\"].mean()\n",
        "Loud_Cover = df2[\"Loud Cover\"].mean()\n",
        "Pressure = df2[\"Pressure (millibars)\"].mean()"
      ],
      "execution_count": 71,
      "outputs": []
    },
    {
      "cell_type": "code",
      "metadata": {
        "id": "mjdhhOVSWmA7"
      },
      "source": [
        "yeni_veri = [[a_t], [hm],[wind_speed],[Wind_Bearing],[vsblty],[Loud_Cover],[Pressure]]\n",
        "yeni_veri = pd.DataFrame(yeni_veri).T"
      ],
      "execution_count": 72,
      "outputs": []
    },
    {
      "cell_type": "code",
      "metadata": {
        "colab": {
          "base_uri": "https://localhost:8080/"
        },
        "id": "W6IA6X_IXLAU",
        "outputId": "9f17c448-114a-44ae-f5d7-74bb3be9d2a3"
      },
      "source": [
        "model.predict(yeni_veri)-df2[\"Temperature (C)\"].mean()"
      ],
      "execution_count": 75,
      "outputs": [
        {
          "output_type": "execute_result",
          "data": {
            "text/plain": [
              "array([-0.00222404])"
            ]
          },
          "metadata": {
            "tags": []
          },
          "execution_count": 75
        }
      ]
    },
    {
      "cell_type": "markdown",
      "metadata": {
        "id": "q-DAQa1wXWGn"
      },
      "source": [
        "Yukarıda gözlendiği gibi ortalama değerler ile tahmin edildiği zaman çıkan sıcaklık sonucu gerçek olan ortalama sıcaklık değerine çok yakın çıktı"
      ]
    },
    {
      "cell_type": "code",
      "metadata": {
        "id": "UV4ElodOYISr"
      },
      "source": [
        "from sklearn.metrics import mean_squared_error, r2_score"
      ],
      "execution_count": 77,
      "outputs": []
    },
    {
      "cell_type": "code",
      "metadata": {
        "id": "LQl-IsuuXMhx"
      },
      "source": [
        "rmse = np.sqrt(mean_squared_error(y_train, model.predict(X_train)))"
      ],
      "execution_count": 78,
      "outputs": []
    },
    {
      "cell_type": "code",
      "metadata": {
        "colab": {
          "base_uri": "https://localhost:8080/"
        },
        "id": "bNxhprduYPLT",
        "outputId": "faa96666-8395-4fde-dc2e-5358e1a134b8"
      },
      "source": [
        "rmse"
      ],
      "execution_count": 79,
      "outputs": [
        {
          "output_type": "execute_result",
          "data": {
            "text/plain": [
              "0.9491983056652127"
            ]
          },
          "metadata": {
            "tags": []
          },
          "execution_count": 79
        }
      ]
    },
    {
      "cell_type": "code",
      "metadata": {
        "id": "e2-VKrbyYQfx"
      },
      "source": [
        "rmse = np.sqrt(mean_squared_error(y_test, model.predict(X_test)))"
      ],
      "execution_count": 80,
      "outputs": []
    },
    {
      "cell_type": "code",
      "metadata": {
        "colab": {
          "base_uri": "https://localhost:8080/"
        },
        "id": "16Rfx-T8YSnc",
        "outputId": "98327811-756a-4015-ba0a-71c55589a931"
      },
      "source": [
        "rmse"
      ],
      "execution_count": 81,
      "outputs": [
        {
          "output_type": "execute_result",
          "data": {
            "text/plain": [
              "0.9482226363318269"
            ]
          },
          "metadata": {
            "tags": []
          },
          "execution_count": 81
        }
      ]
    },
    {
      "cell_type": "markdown",
      "metadata": {
        "id": "pebcWBQkYhWS"
      },
      "source": [
        "#Model doğrulama"
      ]
    },
    {
      "cell_type": "code",
      "metadata": {
        "colab": {
          "base_uri": "https://localhost:8080/",
          "height": 206
        },
        "id": "uYzdkYGhYlG3",
        "outputId": "b4ca5d93-2d49-463c-f08c-f6a5721fe5f8"
      },
      "source": [
        "df2.head()"
      ],
      "execution_count": 100,
      "outputs": [
        {
          "output_type": "execute_result",
          "data": {
            "text/html": [
              "<div>\n",
              "<style scoped>\n",
              "    .dataframe tbody tr th:only-of-type {\n",
              "        vertical-align: middle;\n",
              "    }\n",
              "\n",
              "    .dataframe tbody tr th {\n",
              "        vertical-align: top;\n",
              "    }\n",
              "\n",
              "    .dataframe thead th {\n",
              "        text-align: right;\n",
              "    }\n",
              "</style>\n",
              "<table border=\"1\" class=\"dataframe\">\n",
              "  <thead>\n",
              "    <tr style=\"text-align: right;\">\n",
              "      <th></th>\n",
              "      <th>Temperature (C)</th>\n",
              "      <th>Apparent Temperature (C)</th>\n",
              "      <th>Humidity</th>\n",
              "      <th>Wind Speed (km/h)</th>\n",
              "      <th>Wind Bearing (degrees)</th>\n",
              "      <th>Visibility (km)</th>\n",
              "      <th>Loud Cover</th>\n",
              "      <th>Pressure (millibars)</th>\n",
              "    </tr>\n",
              "  </thead>\n",
              "  <tbody>\n",
              "    <tr>\n",
              "      <th>0</th>\n",
              "      <td>9.472222</td>\n",
              "      <td>7.388889</td>\n",
              "      <td>0.89</td>\n",
              "      <td>14.1197</td>\n",
              "      <td>251.0</td>\n",
              "      <td>15.8263</td>\n",
              "      <td>0.0</td>\n",
              "      <td>1015.13</td>\n",
              "    </tr>\n",
              "    <tr>\n",
              "      <th>1</th>\n",
              "      <td>9.355556</td>\n",
              "      <td>7.227778</td>\n",
              "      <td>0.86</td>\n",
              "      <td>14.2646</td>\n",
              "      <td>259.0</td>\n",
              "      <td>15.8263</td>\n",
              "      <td>0.0</td>\n",
              "      <td>1015.63</td>\n",
              "    </tr>\n",
              "    <tr>\n",
              "      <th>2</th>\n",
              "      <td>9.377778</td>\n",
              "      <td>9.377778</td>\n",
              "      <td>0.89</td>\n",
              "      <td>3.9284</td>\n",
              "      <td>204.0</td>\n",
              "      <td>14.9569</td>\n",
              "      <td>0.0</td>\n",
              "      <td>1015.94</td>\n",
              "    </tr>\n",
              "    <tr>\n",
              "      <th>3</th>\n",
              "      <td>8.288889</td>\n",
              "      <td>5.944444</td>\n",
              "      <td>0.83</td>\n",
              "      <td>14.1036</td>\n",
              "      <td>269.0</td>\n",
              "      <td>15.8263</td>\n",
              "      <td>0.0</td>\n",
              "      <td>1016.41</td>\n",
              "    </tr>\n",
              "    <tr>\n",
              "      <th>4</th>\n",
              "      <td>8.755556</td>\n",
              "      <td>6.977778</td>\n",
              "      <td>0.83</td>\n",
              "      <td>11.0446</td>\n",
              "      <td>259.0</td>\n",
              "      <td>15.8263</td>\n",
              "      <td>0.0</td>\n",
              "      <td>1016.51</td>\n",
              "    </tr>\n",
              "  </tbody>\n",
              "</table>\n",
              "</div>"
            ],
            "text/plain": [
              "   Temperature (C)  Apparent Temperature (C)  ...  Loud Cover  Pressure (millibars)\n",
              "0         9.472222                  7.388889  ...         0.0               1015.13\n",
              "1         9.355556                  7.227778  ...         0.0               1015.63\n",
              "2         9.377778                  9.377778  ...         0.0               1015.94\n",
              "3         8.288889                  5.944444  ...         0.0               1016.41\n",
              "4         8.755556                  6.977778  ...         0.0               1016.51\n",
              "\n",
              "[5 rows x 8 columns]"
            ]
          },
          "metadata": {
            "tags": []
          },
          "execution_count": 100
        }
      ]
    },
    {
      "cell_type": "code",
      "metadata": {
        "id": "kL_KxeBiYqQV"
      },
      "source": [
        "X = df2.drop(\"Temperature (C)\", axis = 1)\n",
        "y = df2[\"Temperature (C)\"]\n",
        "\n",
        "X_train, X_test, y_train, y_test = train_test_split(X, y, \n",
        "                                                    test_size = 0.20, random_state= 50)\n",
        "\n",
        "lm = LinearRegression()\n",
        "model = lm.fit(X_train,y_train)"
      ],
      "execution_count": 93,
      "outputs": []
    },
    {
      "cell_type": "code",
      "metadata": {
        "colab": {
          "base_uri": "https://localhost:8080/"
        },
        "id": "J099ca07Y98F",
        "outputId": "db115b9b-8c1d-4f51-ad0f-f84d04300197"
      },
      "source": [
        "np.sqrt(mean_squared_error(y_train, model.predict(X_train)))"
      ],
      "execution_count": 91,
      "outputs": [
        {
          "output_type": "execute_result",
          "data": {
            "text/plain": [
              "0.9473467315111781"
            ]
          },
          "metadata": {
            "tags": []
          },
          "execution_count": 91
        }
      ]
    },
    {
      "cell_type": "code",
      "metadata": {
        "colab": {
          "base_uri": "https://localhost:8080/"
        },
        "id": "hmT02C3eaATA",
        "outputId": "283728aa-2fb8-41e4-b345-f141cb294e39"
      },
      "source": [
        "np.sqrt(mean_squared_error(y_test, model.predict(X_test)))"
      ],
      "execution_count": 101,
      "outputs": [
        {
          "output_type": "execute_result",
          "data": {
            "text/plain": [
              "0.9492845163556877"
            ]
          },
          "metadata": {
            "tags": []
          },
          "execution_count": 101
        }
      ]
    },
    {
      "cell_type": "code",
      "metadata": {
        "colab": {
          "base_uri": "https://localhost:8080/"
        },
        "id": "O2SGC_jwY_nC",
        "outputId": "82a0409e-52dd-4468-c621-54fb02574d7e"
      },
      "source": [
        "model.score(X_train,y_train)"
      ],
      "execution_count": 94,
      "outputs": [
        {
          "output_type": "execute_result",
          "data": {
            "text/plain": [
              "0.9901087734990959"
            ]
          },
          "metadata": {
            "tags": []
          },
          "execution_count": 94
        }
      ]
    },
    {
      "cell_type": "code",
      "metadata": {
        "colab": {
          "base_uri": "https://localhost:8080/"
        },
        "id": "IP77t6jJZVad",
        "outputId": "226adca3-e200-4a23-bf2d-8be24d7154c4"
      },
      "source": [
        "cross_val_score(model,X,y,cv = 10, scoring=\"r2\").mean()"
      ],
      "execution_count": 96,
      "outputs": [
        {
          "output_type": "execute_result",
          "data": {
            "text/plain": [
              "0.9899159526291929"
            ]
          },
          "metadata": {
            "tags": []
          },
          "execution_count": 96
        }
      ]
    },
    {
      "cell_type": "code",
      "metadata": {
        "colab": {
          "base_uri": "https://localhost:8080/"
        },
        "id": "StYM-sQPaGv5",
        "outputId": "d73911e2-dc26-446d-934b-fd873d950dcd"
      },
      "source": [
        "cross_val_score(model,X_test,y_test,cv = 10, scoring=\"r2\").mean()"
      ],
      "execution_count": 102,
      "outputs": [
        {
          "output_type": "execute_result",
          "data": {
            "text/plain": [
              "0.9901975337199092"
            ]
          },
          "metadata": {
            "tags": []
          },
          "execution_count": 102
        }
      ]
    },
    {
      "cell_type": "code",
      "metadata": {
        "colab": {
          "base_uri": "https://localhost:8080/"
        },
        "id": "99FMSSi1Zep3",
        "outputId": "fb1bc443-4c56-4bef-ba87-42c3c7303aed"
      },
      "source": [
        "cross_val_score(model,X_train,y_train,cv = 10, scoring=\"r2\").mean()"
      ],
      "execution_count": 97,
      "outputs": [
        {
          "output_type": "execute_result",
          "data": {
            "text/plain": [
              "0.9901037781234377"
            ]
          },
          "metadata": {
            "tags": []
          },
          "execution_count": 97
        }
      ]
    },
    {
      "cell_type": "code",
      "metadata": {
        "colab": {
          "base_uri": "https://localhost:8080/"
        },
        "id": "7t9djTvZZkug",
        "outputId": "376c6fbb-88fc-4c99-db87-495590259869"
      },
      "source": [
        "-cross_val_score(model,X_train,y_train,cv = 10, scoring=\"neg_mean_squared_error\").mean()"
      ],
      "execution_count": 99,
      "outputs": [
        {
          "output_type": "execute_result",
          "data": {
            "text/plain": [
              "0.9007290012374515"
            ]
          },
          "metadata": {
            "tags": []
          },
          "execution_count": 99
        }
      ]
    },
    {
      "cell_type": "code",
      "metadata": {
        "colab": {
          "base_uri": "https://localhost:8080/"
        },
        "id": "EhdliikOaWPX",
        "outputId": "6bf7deb6-bdb3-4cec-be5d-4fec4fbcc98a"
      },
      "source": [
        "-cross_val_score(model,X_test,y_test,cv = 10, scoring=\"neg_mean_squared_error\").mean()"
      ],
      "execution_count": 103,
      "outputs": [
        {
          "output_type": "execute_result",
          "data": {
            "text/plain": [
              "0.9016638235464735"
            ]
          },
          "metadata": {
            "tags": []
          },
          "execution_count": 103
        }
      ]
    },
    {
      "cell_type": "markdown",
      "metadata": {
        "id": "yaR7woFSaOzk"
      },
      "source": [
        "Daha doğru olan hatalar cross val değerleridir "
      ]
    }
  ]
}